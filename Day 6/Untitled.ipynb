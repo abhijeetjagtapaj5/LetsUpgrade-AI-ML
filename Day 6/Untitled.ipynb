{
 "cells": [
  {
   "cell_type": "markdown",
   "metadata": {},
   "source": [
    "# Question1"
   ]
  },
  {
   "cell_type": "code",
   "execution_count": 1,
   "metadata": {},
   "outputs": [
    {
     "name": "stdout",
     "output_type": "stream",
     "text": [
      "abhijeet@gmail.com\n",
      "gmail\n"
     ]
    }
   ],
   "source": [
    "c_name = input().split(\"@\")[1].split(\".\")[0]\n",
    "print(c_name)"
   ]
  },
  {
   "cell_type": "markdown",
   "metadata": {},
   "source": [
    "# Question2"
   ]
  },
  {
   "cell_type": "code",
   "execution_count": 3,
   "metadata": {},
   "outputs": [
    {
     "name": "stdout",
     "output_type": "stream",
     "text": [
      "Jagtap,Abhijeet,I'm,Student,LetsUpgrade,at\n",
      "Abhijeet,I'm,Jagtap,LetsUpgrade,Student,at\n"
     ]
    }
   ],
   "source": [
    "# taking comma seperated string and printing a comma seperated sorted string in alphabetical order\n",
    "a = input().split(\",\")\n",
    "\n",
    "a.sort()\n",
    "print(\",\".join(a))"
   ]
  },
  {
   "cell_type": "markdown",
   "metadata": {},
   "source": [
    "# Question3"
   ]
  },
  {
   "cell_type": "markdown",
   "metadata": {},
   "source": [
    "# Set"
   ]
  },
  {
   "cell_type": "markdown",
   "metadata": {},
   "source": [
    "A set is a collection which is unordered and unindexed. In Python sets are written with curly brackets."
   ]
  },
  {
   "cell_type": "code",
   "execution_count": 8,
   "metadata": {},
   "outputs": [
    {
     "name": "stdout",
     "output_type": "stream",
     "text": [
      "{0, 1, 2, 3, 4, 5}\n"
     ]
    }
   ],
   "source": [
    "s={0,1,2,3,4}\n",
    "\n",
    "s.add(5)\n",
    "print(s)"
   ]
  },
  {
   "cell_type": "code",
   "execution_count": 9,
   "metadata": {},
   "outputs": [
    {
     "name": "stdout",
     "output_type": "stream",
     "text": [
      "True\n"
     ]
    }
   ],
   "source": [
    "print(3 in s)"
   ]
  },
  {
   "cell_type": "code",
   "execution_count": 10,
   "metadata": {},
   "outputs": [
    {
     "data": {
      "text/plain": [
       "{0, 1, 2, 3, 4, 5}"
      ]
     },
     "execution_count": 10,
     "metadata": {},
     "output_type": "execute_result"
    }
   ],
   "source": [
    "s_copy = s.copy()\n",
    "s_copy"
   ]
  },
  {
   "cell_type": "markdown",
   "metadata": {},
   "source": [
    "# Question4"
   ]
  },
  {
   "cell_type": "code",
   "execution_count": 12,
   "metadata": {},
   "outputs": [
    {
     "name": "stdout",
     "output_type": "stream",
     "text": [
      "1 2 4 6 3 7 8\n",
      "5\n"
     ]
    }
   ],
   "source": [
    "# Finding the missing number\n",
    "\n",
    "ip = input().split()\n",
    "ip = list(map(int,ip)) # convert all string in list to integers\n",
    "\n",
    "m = max(ip)\n",
    "\n",
    "for i in range(1,m):\n",
    "    if i not in ip:\n",
    "        print(i)\n",
    "        break"
   ]
  },
  {
   "cell_type": "markdown",
   "metadata": {},
   "source": [
    "# Question5"
   ]
  },
  {
   "cell_type": "code",
   "execution_count": 14,
   "metadata": {},
   "outputs": [],
   "source": [
    "# removing duplicate from list and maintain order\n",
    "def ques5():    \n",
    "    ip = input().split()\n",
    "    op = []\n",
    "    for i in ip:\n",
    "        if i not in op:\n",
    "            op.append(i)\n",
    "        \n",
    "    print(\" \".join(op))"
   ]
  },
  {
   "cell_type": "code",
   "execution_count": 15,
   "metadata": {},
   "outputs": [
    {
     "name": "stdout",
     "output_type": "stream",
     "text": [
      "********** Case 1 **********\n",
      "13 5 90 10 13 11 9\n",
      "13 5 90 10 11 9\n",
      "********** Case 2 **********\n",
      "12 24 35 24\n",
      "12 24 35\n"
     ]
    }
   ],
   "source": [
    "\n",
    "print(\"*\"*10,\"Case 1\",\"*\"*10)\n",
    "ques5()\n",
    "\n",
    "print(\"*\"*10,\"Case 2\",\"*\"*10)\n",
    "ques5()"
   ]
  },
  {
   "cell_type": "code",
   "execution_count": null,
   "metadata": {},
   "outputs": [],
   "source": []
  }
 ],
 "metadata": {
  "kernelspec": {
   "display_name": "Python 3",
   "language": "python",
   "name": "python3"
  },
  "language_info": {
   "codemirror_mode": {
    "name": "ipython",
    "version": 3
   },
   "file_extension": ".py",
   "mimetype": "text/x-python",
   "name": "python",
   "nbconvert_exporter": "python",
   "pygments_lexer": "ipython3",
   "version": "3.8.3"
  }
 },
 "nbformat": 4,
 "nbformat_minor": 4
}
