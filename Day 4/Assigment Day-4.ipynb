{
 "cells": [
  {
   "cell_type": "markdown",
   "metadata": {},
   "source": [
    "# 1:Research on whether addition, subtraction, multiplication, division, floor division and modulo operations be performed on complex numbers. Based on your study, implement a Python program to demonstrate these operations. "
   ]
  },
  {
   "cell_type": "code",
   "execution_count": 1,
   "metadata": {},
   "outputs": [
    {
     "name": "stdout",
     "output_type": "stream",
     "text": [
      "Addition of (5+10j) and (10+20j) complex numbers :  (8+3j)\n",
      "Subtraction of (5+10j) and (10+20j) complex numbers :  (2+17j)\n",
      "Multiplication of (5+10j) and (10+20j) complex numbers :  (85-5j)\n",
      "Division of (5+10j) and (10+20j) complex numbers :  (-0.9482758620689657+1.1206896551724137j)\n"
     ]
    }
   ],
   "source": [
    "num1 = 5 + 10j\n",
    "num2 = 10 + 20j\n",
    "\n",
    "print(f\"Addition of {num1} and {num2} complex numbers : \",num1+(3-7j))\n",
    "print(f\"Subtraction of {num1} and {num2} complex numbers : \",num1-(3-7j))\n",
    "print(f\"Multiplication of {num1} and {num2} complex numbers : \",num1*(3-7j))\n",
    "print(f\"Division of {num1} and {num2} complex numbers : \",num1/(3-7j))"
   ]
  },
  {
   "cell_type": "markdown",
   "metadata": {},
   "source": [
    "# 2: Research on range() functions and its parameters. Create a markdown cell and write in your own words (no copy-paste from google please) what you understand about it. Implement a small program of your choice on the same.\n",
    "syntax:\n",
    "range(start, stop[,step])\n",
    "\n",
    "where:\n",
    "\n",
    "start = starting no. of the sequence. i.e., lower limit.\n",
    "\n",
    "stop = argument is an upper limit. i.e., generate numbers up to this no. (range() value is excluded)\n",
    "\n",
    "step = it is the difference between each no. in the result sequence"
   ]
  },
  {
   "cell_type": "code",
   "execution_count": 3,
   "metadata": {},
   "outputs": [
    {
     "name": "stdout",
     "output_type": "stream",
     "text": [
      "Generating a range of no. from 0 to 50 divisible by 3 using range() function.\n",
      "3\n",
      "6\n",
      "9\n",
      "12\n",
      "15\n",
      "18\n",
      "21\n",
      "24\n",
      "27\n",
      "30\n",
      "33\n",
      "36\n",
      "39\n",
      "42\n",
      "45\n",
      "48\n"
     ]
    }
   ],
   "source": [
    "print(\"Generating a range of no. from 0 to 50 divisible by 3 using range() function.\")\n",
    "for i in range(3, 50, 3):\n",
    "    print(i)"
   ]
  },
  {
   "cell_type": "markdown",
   "metadata": {},
   "source": [
    "# 3: Consider two numbers. Perform their subtraction and if the result of subtraction is greater than 25, print their multiplication result else print their division result."
   ]
  },
  {
   "cell_type": "code",
   "execution_count": 4,
   "metadata": {},
   "outputs": [
    {
     "name": "stdout",
     "output_type": "stream",
     "text": [
      "Multiplication of 6250 and 25 is 156250\n"
     ]
    }
   ],
   "source": [
    "num1 = 6250\n",
    "num2 = 25\n",
    "\n",
    "if num1 - num2 > 25:\n",
    "    print(f\"Multiplication of {num1} and {num2} is {num1 * num2}\")\n",
    "else:\n",
    "    print(f\"Division of {num1} and {num2} is {num1 / num2}\")"
   ]
  },
  {
   "cell_type": "markdown",
   "metadata": {},
   "source": [
    "# 4: Consider a list of 10 elements of integer values. If the number in the list is divisible by 2, print the result as \"square of that number minus 2\"."
   ]
  },
  {
   "cell_type": "code",
   "execution_count": 5,
   "metadata": {},
   "outputs": [
    {
     "name": "stdout",
     "output_type": "stream",
     "text": [
      "Square of 22 minus 2 is: 482\n",
      "Square of 44 minus 2 is: 1934\n",
      "Square of 66 minus 2 is: 4354\n",
      "Square of 88 minus 2 is: 7742\n",
      "Square of 10 minus 2 is: 98\n"
     ]
    }
   ],
   "source": [
    "lst = [11, 22, 33, 44, 55, 66, 77, 88, 99, 10]\n",
    "for i in lst:\n",
    "    if i % 2 == 0:\n",
    "        print(f\"Square of {i} minus 2 is: {i**2-2}\")"
   ]
  },
  {
   "cell_type": "markdown",
   "metadata": {},
   "source": [
    "# 5: Consider a list of 10 elements. Print all the elements in the list which are greater than 7 when that number is divided 2"
   ]
  },
  {
   "cell_type": "code",
   "execution_count": 6,
   "metadata": {},
   "outputs": [
    {
     "name": "stdout",
     "output_type": "stream",
     "text": [
      "Elements in the list which are greater than 7 when that no. is divided by 2: \n",
      "44\n",
      "21\n",
      "78\n",
      "19\n",
      "20\n"
     ]
    }
   ],
   "source": [
    "lst = [8, 44, 21, 78, 3, 19, 2, 5, 14, 20]\n",
    "print(\"Elements in the list which are greater than 7 when that no. is divided by 2: \")\n",
    "for i in lst:\n",
    "    if i/2 > 7:\n",
    "        print(i)"
   ]
  },
  {
   "cell_type": "code",
   "execution_count": 7,
   "metadata": {},
   "outputs": [
    {
     "data": {
      "text/plain": [
       "'C:\\\\Users\\\\codew\\\\LetsUpgrade AI-ML\\\\Day 4'"
      ]
     },
     "execution_count": 7,
     "metadata": {},
     "output_type": "execute_result"
    }
   ],
   "source": [
    "import os\n",
    "os.getcwd()"
   ]
  },
  {
   "cell_type": "code",
   "execution_count": null,
   "metadata": {},
   "outputs": [],
   "source": []
  }
 ],
 "metadata": {
  "kernelspec": {
   "display_name": "Python 3",
   "language": "python",
   "name": "python3"
  },
  "language_info": {
   "codemirror_mode": {
    "name": "ipython",
    "version": 3
   },
   "file_extension": ".py",
   "mimetype": "text/x-python",
   "name": "python",
   "nbconvert_exporter": "python",
   "pygments_lexer": "ipython3",
   "version": "3.8.3"
  }
 },
 "nbformat": 4,
 "nbformat_minor": 4
}
